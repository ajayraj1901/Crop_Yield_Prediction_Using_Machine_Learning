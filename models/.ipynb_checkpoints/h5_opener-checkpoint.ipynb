{
 "cells": [
  {
   "cell_type": "code",
   "execution_count": 4,
   "id": "64ade3a7",
   "metadata": {},
   "outputs": [
    {
     "name": "stdout",
     "output_type": "stream",
     "text": [
      "<HDF5 file \"my_model.h5\" (mode r)>\n"
     ]
    }
   ],
   "source": [
    "import h5py\n",
    "\n",
    "filename = \"my_model.h5\"\n",
    "\n",
    "h5 = h5py.File(filename,'r')\n",
    "\n",
    "print(h5)\n",
    "h5.close()\n"
   ]
  },
  {
   "cell_type": "code",
   "execution_count": null,
   "id": "341dc255",
   "metadata": {},
   "outputs": [],
   "source": []
  }
 ],
 "metadata": {
  "kernelspec": {
   "display_name": "Python 3 (ipykernel)",
   "language": "python",
   "name": "python3"
  },
  "language_info": {
   "codemirror_mode": {
    "name": "ipython",
    "version": 3
   },
   "file_extension": ".py",
   "mimetype": "text/x-python",
   "name": "python",
   "nbconvert_exporter": "python",
   "pygments_lexer": "ipython3",
   "version": "3.9.7"
  }
 },
 "nbformat": 4,
 "nbformat_minor": 5
}
