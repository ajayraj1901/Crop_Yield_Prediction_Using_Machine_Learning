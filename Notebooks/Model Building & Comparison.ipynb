{
 "cells": [
  {
   "cell_type": "code",
   "execution_count": 1,
   "id": "c19f1108",
   "metadata": {},
   "outputs": [],
   "source": [
    "import pandas as pd\n",
    "import numpy as np"
   ]
  },
  {
   "cell_type": "code",
   "execution_count": 2,
   "id": "4025b390",
   "metadata": {},
   "outputs": [
    {
     "data": {
      "text/html": [
       "<div>\n",
       "<style scoped>\n",
       "    .dataframe tbody tr th:only-of-type {\n",
       "        vertical-align: middle;\n",
       "    }\n",
       "\n",
       "    .dataframe tbody tr th {\n",
       "        vertical-align: top;\n",
       "    }\n",
       "\n",
       "    .dataframe thead th {\n",
       "        text-align: right;\n",
       "    }\n",
       "</style>\n",
       "<table border=\"1\" class=\"dataframe\">\n",
       "  <thead>\n",
       "    <tr style=\"text-align: right;\">\n",
       "      <th></th>\n",
       "      <th>Area</th>\n",
       "      <th>Annual</th>\n",
       "      <th>Mean Max. Tempearure</th>\n",
       "      <th>Mean Min. Tempearure</th>\n",
       "      <th>Yield</th>\n",
       "      <th>ADILABAD</th>\n",
       "      <th>HYDERABAD</th>\n",
       "      <th>KARIMNAGAR</th>\n",
       "      <th>KHAMMAM</th>\n",
       "      <th>MAHBUBNAGAR</th>\n",
       "      <th>...</th>\n",
       "      <th>Tapioca</th>\n",
       "      <th>Tobacco</th>\n",
       "      <th>Tomato</th>\n",
       "      <th>Turmeric</th>\n",
       "      <th>Urad</th>\n",
       "      <th>Varagu</th>\n",
       "      <th>Wheat</th>\n",
       "      <th>other fibres</th>\n",
       "      <th>other misc. pulses</th>\n",
       "      <th>other oilseeds</th>\n",
       "    </tr>\n",
       "  </thead>\n",
       "  <tbody>\n",
       "    <tr>\n",
       "      <th>0</th>\n",
       "      <td>32200.0</td>\n",
       "      <td>942.16</td>\n",
       "      <td>33.250833</td>\n",
       "      <td>21.274167</td>\n",
       "      <td>34.161491</td>\n",
       "      <td>1</td>\n",
       "      <td>0</td>\n",
       "      <td>0</td>\n",
       "      <td>0</td>\n",
       "      <td>0</td>\n",
       "      <td>...</td>\n",
       "      <td>0</td>\n",
       "      <td>0</td>\n",
       "      <td>0</td>\n",
       "      <td>0</td>\n",
       "      <td>0</td>\n",
       "      <td>0</td>\n",
       "      <td>0</td>\n",
       "      <td>0</td>\n",
       "      <td>0</td>\n",
       "      <td>0</td>\n",
       "    </tr>\n",
       "    <tr>\n",
       "      <th>1</th>\n",
       "      <td>2600.0</td>\n",
       "      <td>942.16</td>\n",
       "      <td>33.250833</td>\n",
       "      <td>21.274167</td>\n",
       "      <td>269.230769</td>\n",
       "      <td>1</td>\n",
       "      <td>0</td>\n",
       "      <td>0</td>\n",
       "      <td>0</td>\n",
       "      <td>0</td>\n",
       "      <td>...</td>\n",
       "      <td>0</td>\n",
       "      <td>0</td>\n",
       "      <td>0</td>\n",
       "      <td>0</td>\n",
       "      <td>0</td>\n",
       "      <td>0</td>\n",
       "      <td>0</td>\n",
       "      <td>0</td>\n",
       "      <td>0</td>\n",
       "      <td>0</td>\n",
       "    </tr>\n",
       "    <tr>\n",
       "      <th>2</th>\n",
       "      <td>144900.0</td>\n",
       "      <td>942.16</td>\n",
       "      <td>33.250833</td>\n",
       "      <td>21.274167</td>\n",
       "      <td>458.937198</td>\n",
       "      <td>1</td>\n",
       "      <td>0</td>\n",
       "      <td>0</td>\n",
       "      <td>0</td>\n",
       "      <td>0</td>\n",
       "      <td>...</td>\n",
       "      <td>0</td>\n",
       "      <td>0</td>\n",
       "      <td>0</td>\n",
       "      <td>0</td>\n",
       "      <td>0</td>\n",
       "      <td>0</td>\n",
       "      <td>0</td>\n",
       "      <td>0</td>\n",
       "      <td>0</td>\n",
       "      <td>0</td>\n",
       "    </tr>\n",
       "    <tr>\n",
       "      <th>3</th>\n",
       "      <td>5500.0</td>\n",
       "      <td>942.16</td>\n",
       "      <td>33.250833</td>\n",
       "      <td>21.274167</td>\n",
       "      <td>563.636364</td>\n",
       "      <td>1</td>\n",
       "      <td>0</td>\n",
       "      <td>0</td>\n",
       "      <td>0</td>\n",
       "      <td>0</td>\n",
       "      <td>...</td>\n",
       "      <td>0</td>\n",
       "      <td>0</td>\n",
       "      <td>0</td>\n",
       "      <td>0</td>\n",
       "      <td>0</td>\n",
       "      <td>0</td>\n",
       "      <td>0</td>\n",
       "      <td>0</td>\n",
       "      <td>0</td>\n",
       "      <td>0</td>\n",
       "    </tr>\n",
       "    <tr>\n",
       "      <th>4</th>\n",
       "      <td>58200.0</td>\n",
       "      <td>942.16</td>\n",
       "      <td>33.250833</td>\n",
       "      <td>21.274167</td>\n",
       "      <td>541.237113</td>\n",
       "      <td>1</td>\n",
       "      <td>0</td>\n",
       "      <td>0</td>\n",
       "      <td>0</td>\n",
       "      <td>0</td>\n",
       "      <td>...</td>\n",
       "      <td>0</td>\n",
       "      <td>0</td>\n",
       "      <td>0</td>\n",
       "      <td>0</td>\n",
       "      <td>0</td>\n",
       "      <td>0</td>\n",
       "      <td>0</td>\n",
       "      <td>0</td>\n",
       "      <td>0</td>\n",
       "      <td>0</td>\n",
       "    </tr>\n",
       "    <tr>\n",
       "      <th>...</th>\n",
       "      <td>...</td>\n",
       "      <td>...</td>\n",
       "      <td>...</td>\n",
       "      <td>...</td>\n",
       "      <td>...</td>\n",
       "      <td>...</td>\n",
       "      <td>...</td>\n",
       "      <td>...</td>\n",
       "      <td>...</td>\n",
       "      <td>...</td>\n",
       "      <td>...</td>\n",
       "      <td>...</td>\n",
       "      <td>...</td>\n",
       "      <td>...</td>\n",
       "      <td>...</td>\n",
       "      <td>...</td>\n",
       "      <td>...</td>\n",
       "      <td>...</td>\n",
       "      <td>...</td>\n",
       "      <td>...</td>\n",
       "      <td>...</td>\n",
       "    </tr>\n",
       "    <tr>\n",
       "      <th>5644</th>\n",
       "      <td>21.0</td>\n",
       "      <td>871.51</td>\n",
       "      <td>33.791667</td>\n",
       "      <td>22.709167</td>\n",
       "      <td>1428.571429</td>\n",
       "      <td>0</td>\n",
       "      <td>0</td>\n",
       "      <td>0</td>\n",
       "      <td>0</td>\n",
       "      <td>0</td>\n",
       "      <td>...</td>\n",
       "      <td>0</td>\n",
       "      <td>0</td>\n",
       "      <td>0</td>\n",
       "      <td>0</td>\n",
       "      <td>0</td>\n",
       "      <td>0</td>\n",
       "      <td>0</td>\n",
       "      <td>0</td>\n",
       "      <td>0</td>\n",
       "      <td>0</td>\n",
       "    </tr>\n",
       "    <tr>\n",
       "      <th>5645</th>\n",
       "      <td>42.0</td>\n",
       "      <td>871.51</td>\n",
       "      <td>33.791667</td>\n",
       "      <td>22.709167</td>\n",
       "      <td>7761.904762</td>\n",
       "      <td>0</td>\n",
       "      <td>0</td>\n",
       "      <td>0</td>\n",
       "      <td>0</td>\n",
       "      <td>0</td>\n",
       "      <td>...</td>\n",
       "      <td>0</td>\n",
       "      <td>0</td>\n",
       "      <td>0</td>\n",
       "      <td>0</td>\n",
       "      <td>0</td>\n",
       "      <td>0</td>\n",
       "      <td>0</td>\n",
       "      <td>0</td>\n",
       "      <td>0</td>\n",
       "      <td>0</td>\n",
       "    </tr>\n",
       "    <tr>\n",
       "      <th>5646</th>\n",
       "      <td>70.0</td>\n",
       "      <td>871.51</td>\n",
       "      <td>33.791667</td>\n",
       "      <td>22.709167</td>\n",
       "      <td>1957.142857</td>\n",
       "      <td>0</td>\n",
       "      <td>0</td>\n",
       "      <td>0</td>\n",
       "      <td>0</td>\n",
       "      <td>0</td>\n",
       "      <td>...</td>\n",
       "      <td>0</td>\n",
       "      <td>1</td>\n",
       "      <td>0</td>\n",
       "      <td>0</td>\n",
       "      <td>0</td>\n",
       "      <td>0</td>\n",
       "      <td>0</td>\n",
       "      <td>0</td>\n",
       "      <td>0</td>\n",
       "      <td>0</td>\n",
       "    </tr>\n",
       "    <tr>\n",
       "      <th>5647</th>\n",
       "      <td>1494.0</td>\n",
       "      <td>871.51</td>\n",
       "      <td>33.791667</td>\n",
       "      <td>22.709167</td>\n",
       "      <td>406.291834</td>\n",
       "      <td>0</td>\n",
       "      <td>0</td>\n",
       "      <td>0</td>\n",
       "      <td>0</td>\n",
       "      <td>0</td>\n",
       "      <td>...</td>\n",
       "      <td>0</td>\n",
       "      <td>0</td>\n",
       "      <td>0</td>\n",
       "      <td>0</td>\n",
       "      <td>1</td>\n",
       "      <td>0</td>\n",
       "      <td>0</td>\n",
       "      <td>0</td>\n",
       "      <td>0</td>\n",
       "      <td>0</td>\n",
       "    </tr>\n",
       "    <tr>\n",
       "      <th>5648</th>\n",
       "      <td>38.0</td>\n",
       "      <td>871.51</td>\n",
       "      <td>33.791667</td>\n",
       "      <td>22.709167</td>\n",
       "      <td>236.842105</td>\n",
       "      <td>0</td>\n",
       "      <td>0</td>\n",
       "      <td>0</td>\n",
       "      <td>0</td>\n",
       "      <td>0</td>\n",
       "      <td>...</td>\n",
       "      <td>0</td>\n",
       "      <td>0</td>\n",
       "      <td>0</td>\n",
       "      <td>0</td>\n",
       "      <td>0</td>\n",
       "      <td>0</td>\n",
       "      <td>0</td>\n",
       "      <td>0</td>\n",
       "      <td>0</td>\n",
       "      <td>0</td>\n",
       "    </tr>\n",
       "  </tbody>\n",
       "</table>\n",
       "<p>5649 rows × 83 columns</p>\n",
       "</div>"
      ],
      "text/plain": [
       "          Area  Annual  Mean Max. Tempearure  Mean Min. Tempearure  \\\n",
       "0      32200.0  942.16             33.250833             21.274167   \n",
       "1       2600.0  942.16             33.250833             21.274167   \n",
       "2     144900.0  942.16             33.250833             21.274167   \n",
       "3       5500.0  942.16             33.250833             21.274167   \n",
       "4      58200.0  942.16             33.250833             21.274167   \n",
       "...        ...     ...                   ...                   ...   \n",
       "5644      21.0  871.51             33.791667             22.709167   \n",
       "5645      42.0  871.51             33.791667             22.709167   \n",
       "5646      70.0  871.51             33.791667             22.709167   \n",
       "5647    1494.0  871.51             33.791667             22.709167   \n",
       "5648      38.0  871.51             33.791667             22.709167   \n",
       "\n",
       "            Yield  ADILABAD  HYDERABAD  KARIMNAGAR  KHAMMAM  MAHBUBNAGAR  ...  \\\n",
       "0       34.161491         1          0           0        0            0  ...   \n",
       "1      269.230769         1          0           0        0            0  ...   \n",
       "2      458.937198         1          0           0        0            0  ...   \n",
       "3      563.636364         1          0           0        0            0  ...   \n",
       "4      541.237113         1          0           0        0            0  ...   \n",
       "...           ...       ...        ...         ...      ...          ...  ...   \n",
       "5644  1428.571429         0          0           0        0            0  ...   \n",
       "5645  7761.904762         0          0           0        0            0  ...   \n",
       "5646  1957.142857         0          0           0        0            0  ...   \n",
       "5647   406.291834         0          0           0        0            0  ...   \n",
       "5648   236.842105         0          0           0        0            0  ...   \n",
       "\n",
       "      Tapioca  Tobacco  Tomato  Turmeric  Urad  Varagu  Wheat  other fibres  \\\n",
       "0           0        0       0         0     0       0      0             0   \n",
       "1           0        0       0         0     0       0      0             0   \n",
       "2           0        0       0         0     0       0      0             0   \n",
       "3           0        0       0         0     0       0      0             0   \n",
       "4           0        0       0         0     0       0      0             0   \n",
       "...       ...      ...     ...       ...   ...     ...    ...           ...   \n",
       "5644        0        0       0         0     0       0      0             0   \n",
       "5645        0        0       0         0     0       0      0             0   \n",
       "5646        0        1       0         0     0       0      0             0   \n",
       "5647        0        0       0         0     1       0      0             0   \n",
       "5648        0        0       0         0     0       0      0             0   \n",
       "\n",
       "      other misc. pulses  other oilseeds  \n",
       "0                      0               0  \n",
       "1                      0               0  \n",
       "2                      0               0  \n",
       "3                      0               0  \n",
       "4                      0               0  \n",
       "...                  ...             ...  \n",
       "5644                   0               0  \n",
       "5645                   0               0  \n",
       "5646                   0               0  \n",
       "5647                   0               0  \n",
       "5648                   0               0  \n",
       "\n",
       "[5649 rows x 83 columns]"
      ]
     },
     "execution_count": 2,
     "metadata": {},
     "output_type": "execute_result"
    }
   ],
   "source": [
    "df= pd.read_csv(\"datasets/preprocessed_data.csv\")\n",
    "df"
   ]
  },
  {
   "cell_type": "code",
   "execution_count": 3,
   "id": "d25cc457",
   "metadata": {},
   "outputs": [],
   "source": [
    "df= pd.read_csv(\"datasets/Pre-Processed Data.csv\")"
   ]
  },
  {
   "cell_type": "code",
   "execution_count": 4,
   "id": "87ebce1a",
   "metadata": {},
   "outputs": [],
   "source": [
    "from sklearn.model_selection import train_test_split\n",
    "b = df['Yield']\n",
    "a = df.drop('Yield', axis = 1)\n",
    "\n",
    "x_train, x_test, y_train, y_test = train_test_split(a, b, test_size = 0.3, random_state = 42)"
   ]
  },
  {
   "cell_type": "code",
   "execution_count": 5,
   "id": "50eac892",
   "metadata": {},
   "outputs": [],
   "source": [
    "from sklearn.preprocessing import StandardScaler\n",
    "sc = StandardScaler()\n",
    "a_train = sc.fit_transform(x_train)\n",
    "a_test = sc.transform(x_test)"
   ]
  },
  {
   "cell_type": "markdown",
   "id": "16ef1db7",
   "metadata": {},
   "source": [
    "# MODEL 1: MULTIVARIATE LINEAR REGRESSION"
   ]
  },
  {
   "cell_type": "code",
   "execution_count": 6,
   "id": "efc45fa2",
   "metadata": {},
   "outputs": [
    {
     "name": "stdout",
     "output_type": "stream",
     "text": [
      "MAE:  1386.1879860215465\n",
      "R-Squared:  0.8998330982343927\n"
     ]
    }
   ],
   "source": [
    "from sklearn.linear_model import LinearRegression\n",
    "from sklearn import metrics\n",
    "\n",
    "clf_linear = LinearRegression()\n",
    "clf_linear.fit(a_train, y_train)\n",
    "ypredlinear = clf_linear.predict(a_test)\n",
    "mae_linear= metrics.mean_absolute_error(ypredlinear, y_test)\n",
    "r2_linear= metrics.r2_score(ypredlinear, y_test)\n",
    "print(\"MAE: \", mae_linear)\n",
    "print(\"R-Squared: \", r2_linear)"
   ]
  },
  {
   "cell_type": "markdown",
   "id": "4ad58299",
   "metadata": {},
   "source": [
    "# MODEL 2: RANDOM FOREST REGRESSOR"
   ]
  },
  {
   "cell_type": "code",
   "execution_count": 7,
   "id": "91510cc9",
   "metadata": {},
   "outputs": [
    {
     "name": "stdout",
     "output_type": "stream",
     "text": [
      "MSE = 24939022.556536306\n",
      "MAE = 2745.9861864747504\n",
      "R2 Score = 0.809084329358253\n"
     ]
    }
   ],
   "source": [
    "from sklearn.ensemble import RandomForestRegressor\n",
    "from sklearn import metrics\n",
    "\n",
    "regr = RandomForestRegressor(max_depth=2, random_state=0, n_estimators=100)\n",
    "regr.fit(a_train, y_train)\n",
    "predictions = regr.predict(a_test)\n",
    "\n",
    "from sklearn.metrics import mean_squared_error as mse\n",
    "from sklearn.metrics import mean_absolute_error as mae\n",
    "from sklearn.metrics import r2_score\n",
    "\n",
    "mae_rfr= mae(predictions, y_test)\n",
    "r2_rfr= r2_score(predictions, y_test)\n",
    "\n",
    "print('MSE =', mse(predictions, y_test))\n",
    "print('MAE =', mae(predictions, y_test))\n",
    "print('R2 Score =', r2_score(predictions, y_test))"
   ]
  },
  {
   "cell_type": "markdown",
   "id": "738a81d0",
   "metadata": {},
   "source": [
    "# MODEL 3: POLYNOMIAL SUPPORT VECTOR REGRESSOR (SVR)"
   ]
  },
  {
   "cell_type": "code",
   "execution_count": 8,
   "id": "f4c940cc",
   "metadata": {},
   "outputs": [
    {
     "name": "stdout",
     "output_type": "stream",
     "text": [
      "MAE:  3741.9947421488605\n",
      "R-Squared:   -0.06086265037244143\n"
     ]
    }
   ],
   "source": [
    "from sklearn.svm import SVR\n",
    "from sklearn import metrics\n",
    "\n",
    "regressorpoly=SVR(kernel='poly',epsilon=1.0)\n",
    "regressorpoly.fit(a_train, y_train)\n",
    "pred=regressorpoly.predict(a_test)\n",
    "\n",
    "mae_svm= mae(pred, y_test)\n",
    "r2_svm = r2_score(y_test, pred)\n",
    "\n",
    "print(\"MAE: \", mae(pred, y_test))\n",
    "print(\"R-Squared:  \", r2_score(y_test, pred))"
   ]
  },
  {
   "cell_type": "markdown",
   "id": "6f544a3d",
   "metadata": {},
   "source": [
    "# MAIN MODEL: ARTIFICIAL NEURAL NETWORK (ANN)"
   ]
  },
  {
   "cell_type": "code",
   "execution_count": 9,
   "id": "71a6dc67",
   "metadata": {},
   "outputs": [],
   "source": [
    "#First thing first- defining the function for evaluate R2 Score\n",
    "import keras as K\n",
    "\n",
    "def RSquared(y_true, y_pred):\n",
    "    from keras import backend as K\n",
    "    SS_res =  K.sum(K.square( y_true-y_pred ))\n",
    "    SS_tot = K.sum(K.square( y_true - K.mean(y_true) ) )\n",
    "    return ( 1 - SS_res/(SS_tot + K.epsilon()) )"
   ]
  },
  {
   "cell_type": "code",
   "execution_count": 10,
   "id": "1d5ad08a",
   "metadata": {},
   "outputs": [],
   "source": [
    "from keras.callbacks import ModelCheckpoint\n",
    "from keras.models import Sequential\n",
    "from keras.layers import Dense, Activation, Flatten\n",
    "#from sklearn.model_selection import train_test_split\n",
    "#from sklearn.ensemble import RandomForestRegressor\n",
    "from sklearn.metrics import mean_absolute_error \n",
    "from sklearn.metrics import r2_score\n",
    "#from matplotlib import pyplot as plt\n",
    "import seaborn as sb\n",
    "import matplotlib.pyplot as plt\n",
    "#import pandas as pd\n",
    "#import numpy as np\n",
    "import warnings\n",
    "from keras.callbacks import History \n",
    "warnings.filterwarnings('ignore')\n",
    "warnings.filterwarnings('ignore', category=DeprecationWarning)"
   ]
  },
  {
   "cell_type": "code",
   "execution_count": 11,
   "id": "22ffb2d7",
   "metadata": {},
   "outputs": [
    {
     "name": "stdout",
     "output_type": "stream",
     "text": [
      "Model: \"sequential\"\n",
      "_________________________________________________________________\n",
      " Layer (type)                Output Shape              Param #   \n",
      "=================================================================\n",
      " dense (Dense)               (None, 128)               12288     \n",
      "                                                                 \n",
      " dense_1 (Dense)             (None, 256)               33024     \n",
      "                                                                 \n",
      " dense_2 (Dense)             (None, 256)               65792     \n",
      "                                                                 \n",
      " dense_3 (Dense)             (None, 256)               65792     \n",
      "                                                                 \n",
      " dense_4 (Dense)             (None, 1)                 257       \n",
      "                                                                 \n",
      "=================================================================\n",
      "Total params: 177,153\n",
      "Trainable params: 177,153\n",
      "Non-trainable params: 0\n",
      "_________________________________________________________________\n"
     ]
    }
   ],
   "source": [
    "NN_model = Sequential()\n",
    "\n",
    "# The Input Layer :\n",
    "NN_model.add(Dense(128, kernel_initializer='normal',input_dim = a_train.shape[1], activation='relu'))\n",
    "\n",
    "# The Hidden Layers :\n",
    "NN_model.add(Dense(256, kernel_initializer='normal',activation='relu'))\n",
    "NN_model.add(Dense(256, kernel_initializer='normal',activation='relu'))\n",
    "NN_model.add(Dense(256, kernel_initializer='normal',activation='relu'))\n",
    "\n",
    "# The Output Layer :\n",
    "NN_model.add(Dense(1, kernel_initializer='normal',activation='relu'))\n",
    "\n",
    "# Compile the network :\n",
    "NN_model.compile(loss='mean_absolute_error', optimizer='adam', metrics=['mean_absolute_error', RSquared])\n",
    "NN_model.summary()"
   ]
  },
  {
   "cell_type": "code",
   "execution_count": 12,
   "id": "266081a2",
   "metadata": {},
   "outputs": [
    {
     "name": "stdout",
     "output_type": "stream",
     "text": [
      "Epoch 1/50\n",
      "220/220 [==============================] - 1s 2ms/step - loss: 3070.9470 - mean_absolute_error: 3070.9470 - RSquared: 0.2093 - val_loss: 2038.5886 - val_mean_absolute_error: 2038.5886 - val_RSquared: 0.6482\n",
      "Epoch 2/50\n",
      "220/220 [==============================] - 0s 1ms/step - loss: 1352.0569 - mean_absolute_error: 1352.0568 - RSquared: 0.8230 - val_loss: 1107.5609 - val_mean_absolute_error: 1107.5609 - val_RSquared: 0.8664\n",
      "Epoch 3/50\n",
      "220/220 [==============================] - 0s 1ms/step - loss: 1174.9652 - mean_absolute_error: 1174.9652 - RSquared: 0.8192 - val_loss: 1165.4803 - val_mean_absolute_error: 1165.4803 - val_RSquared: 0.8593\n",
      "Epoch 4/50\n",
      "220/220 [==============================] - 0s 1ms/step - loss: 1142.8087 - mean_absolute_error: 1142.8087 - RSquared: 0.8252 - val_loss: 1135.1241 - val_mean_absolute_error: 1135.1241 - val_RSquared: 0.8510\n",
      "Epoch 5/50\n",
      "220/220 [==============================] - 0s 1ms/step - loss: 1104.0776 - mean_absolute_error: 1104.0776 - RSquared: 0.8377 - val_loss: 1071.5588 - val_mean_absolute_error: 1071.5588 - val_RSquared: 0.8594\n",
      "Epoch 6/50\n",
      "220/220 [==============================] - 0s 1ms/step - loss: 1082.5339 - mean_absolute_error: 1082.5338 - RSquared: 0.8476 - val_loss: 1045.1902 - val_mean_absolute_error: 1045.1903 - val_RSquared: 0.8674\n",
      "Epoch 7/50\n",
      "220/220 [==============================] - 0s 1ms/step - loss: 1059.2476 - mean_absolute_error: 1059.2476 - RSquared: 0.8593 - val_loss: 1038.4419 - val_mean_absolute_error: 1038.4419 - val_RSquared: 0.8746\n",
      "Epoch 8/50\n",
      "220/220 [==============================] - 0s 1ms/step - loss: 1073.5973 - mean_absolute_error: 1073.5973 - RSquared: 0.8510 - val_loss: 1033.4609 - val_mean_absolute_error: 1033.4609 - val_RSquared: 0.8708\n",
      "Epoch 9/50\n",
      "220/220 [==============================] - 0s 1ms/step - loss: 1054.6541 - mean_absolute_error: 1054.6541 - RSquared: 0.8580 - val_loss: 1029.4987 - val_mean_absolute_error: 1029.4987 - val_RSquared: 0.8740\n",
      "Epoch 10/50\n",
      "220/220 [==============================] - 0s 1ms/step - loss: 1028.3375 - mean_absolute_error: 1028.3375 - RSquared: 0.8636 - val_loss: 1026.7797 - val_mean_absolute_error: 1026.7797 - val_RSquared: 0.8656\n",
      "Epoch 11/50\n",
      "220/220 [==============================] - 0s 1ms/step - loss: 1009.1378 - mean_absolute_error: 1009.1378 - RSquared: 0.8628 - val_loss: 1022.9683 - val_mean_absolute_error: 1022.9683 - val_RSquared: 0.8724\n",
      "Epoch 12/50\n",
      "220/220 [==============================] - 0s 1ms/step - loss: 1032.3627 - mean_absolute_error: 1032.3627 - RSquared: 0.8699 - val_loss: 1011.9460 - val_mean_absolute_error: 1011.9460 - val_RSquared: 0.8745\n",
      "Epoch 13/50\n",
      "220/220 [==============================] - 0s 1ms/step - loss: 1009.3903 - mean_absolute_error: 1009.3903 - RSquared: 0.8590 - val_loss: 1069.2289 - val_mean_absolute_error: 1069.2289 - val_RSquared: 0.8552\n",
      "Epoch 14/50\n",
      "220/220 [==============================] - 0s 1ms/step - loss: 996.6997 - mean_absolute_error: 996.6997 - RSquared: 0.8669 - val_loss: 1112.0642 - val_mean_absolute_error: 1112.0642 - val_RSquared: 0.8535\n",
      "Epoch 15/50\n",
      "220/220 [==============================] - 0s 2ms/step - loss: 1000.8322 - mean_absolute_error: 1000.8322 - RSquared: 0.8492 - val_loss: 1058.9092 - val_mean_absolute_error: 1058.9092 - val_RSquared: 0.8567\n",
      "Epoch 16/50\n",
      "220/220 [==============================] - 0s 1ms/step - loss: 980.0477 - mean_absolute_error: 980.0477 - RSquared: 0.8344 - val_loss: 1098.4764 - val_mean_absolute_error: 1098.4764 - val_RSquared: 0.8495\n",
      "Epoch 17/50\n",
      "220/220 [==============================] - 0s 1ms/step - loss: 986.6038 - mean_absolute_error: 986.6038 - RSquared: 0.8842 - val_loss: 1015.0484 - val_mean_absolute_error: 1015.0484 - val_RSquared: 0.8597\n",
      "Epoch 18/50\n",
      "220/220 [==============================] - 0s 1ms/step - loss: 983.6212 - mean_absolute_error: 983.6212 - RSquared: 0.8676 - val_loss: 997.1024 - val_mean_absolute_error: 997.1024 - val_RSquared: 0.8672\n",
      "Epoch 19/50\n",
      "220/220 [==============================] - 0s 1ms/step - loss: 984.8179 - mean_absolute_error: 984.8179 - RSquared: 0.8568 - val_loss: 1026.5186 - val_mean_absolute_error: 1026.5186 - val_RSquared: 0.8703\n",
      "Epoch 20/50\n",
      "220/220 [==============================] - 0s 1ms/step - loss: 971.4611 - mean_absolute_error: 971.4611 - RSquared: 0.8713 - val_loss: 1011.7322 - val_mean_absolute_error: 1011.7322 - val_RSquared: 0.8678\n",
      "Epoch 21/50\n",
      "220/220 [==============================] - 0s 1ms/step - loss: 962.8971 - mean_absolute_error: 962.8971 - RSquared: 0.8778 - val_loss: 1089.8184 - val_mean_absolute_error: 1089.8184 - val_RSquared: 0.8498\n",
      "Epoch 22/50\n",
      "220/220 [==============================] - 0s 1ms/step - loss: 986.0554 - mean_absolute_error: 986.0554 - RSquared: 0.8672 - val_loss: 1016.5000 - val_mean_absolute_error: 1016.5000 - val_RSquared: 0.8647\n",
      "Epoch 23/50\n",
      "220/220 [==============================] - 0s 1ms/step - loss: 991.9877 - mean_absolute_error: 991.9877 - RSquared: 0.8712 - val_loss: 1021.8241 - val_mean_absolute_error: 1021.8241 - val_RSquared: 0.8656\n",
      "Epoch 24/50\n",
      "220/220 [==============================] - 0s 1ms/step - loss: 959.8500 - mean_absolute_error: 959.8500 - RSquared: 0.8742 - val_loss: 996.5782 - val_mean_absolute_error: 996.5782 - val_RSquared: 0.8598\n",
      "Epoch 25/50\n",
      "220/220 [==============================] - 0s 1ms/step - loss: 976.2933 - mean_absolute_error: 976.2933 - RSquared: 0.8848 - val_loss: 1114.6349 - val_mean_absolute_error: 1114.6349 - val_RSquared: 0.8343\n",
      "Epoch 26/50\n",
      "220/220 [==============================] - 0s 1ms/step - loss: 973.2407 - mean_absolute_error: 973.2407 - RSquared: 0.8603 - val_loss: 1002.2866 - val_mean_absolute_error: 1002.2866 - val_RSquared: 0.8685\n",
      "Epoch 27/50\n",
      "220/220 [==============================] - 0s 1ms/step - loss: 948.1592 - mean_absolute_error: 948.1592 - RSquared: 0.8845 - val_loss: 1006.3603 - val_mean_absolute_error: 1006.3603 - val_RSquared: 0.8695\n",
      "Epoch 28/50\n",
      "220/220 [==============================] - 0s 1ms/step - loss: 961.7236 - mean_absolute_error: 961.7236 - RSquared: 0.8789 - val_loss: 1061.4176 - val_mean_absolute_error: 1061.4176 - val_RSquared: 0.8621\n",
      "Epoch 29/50\n",
      "220/220 [==============================] - 0s 1ms/step - loss: 959.6701 - mean_absolute_error: 959.6701 - RSquared: 0.8693 - val_loss: 1019.4005 - val_mean_absolute_error: 1019.4005 - val_RSquared: 0.8632\n",
      "Epoch 30/50\n",
      "220/220 [==============================] - 0s 1ms/step - loss: 981.9537 - mean_absolute_error: 981.9537 - RSquared: 0.8705 - val_loss: 1017.7125 - val_mean_absolute_error: 1017.7125 - val_RSquared: 0.8610\n",
      "Epoch 31/50\n",
      "220/220 [==============================] - 0s 1ms/step - loss: 960.6479 - mean_absolute_error: 960.6479 - RSquared: 0.8597 - val_loss: 1033.6279 - val_mean_absolute_error: 1033.6279 - val_RSquared: 0.8597\n",
      "Epoch 32/50\n",
      "220/220 [==============================] - 0s 1ms/step - loss: 943.7211 - mean_absolute_error: 943.7211 - RSquared: 0.8719 - val_loss: 1000.9339 - val_mean_absolute_error: 1000.9339 - val_RSquared: 0.8676\n",
      "Epoch 33/50\n",
      "220/220 [==============================] - 0s 1ms/step - loss: 945.0319 - mean_absolute_error: 945.0320 - RSquared: 0.8725 - val_loss: 1053.2264 - val_mean_absolute_error: 1053.2264 - val_RSquared: 0.8501\n",
      "Epoch 34/50\n",
      "220/220 [==============================] - 0s 1ms/step - loss: 946.8921 - mean_absolute_error: 946.8921 - RSquared: 0.8625 - val_loss: 1009.6072 - val_mean_absolute_error: 1009.6072 - val_RSquared: 0.8597\n",
      "Epoch 35/50\n",
      "220/220 [==============================] - 0s 1ms/step - loss: 937.7240 - mean_absolute_error: 937.7240 - RSquared: 0.8707 - val_loss: 1108.1947 - val_mean_absolute_error: 1108.1947 - val_RSquared: 0.8432\n",
      "Epoch 36/50\n",
      "220/220 [==============================] - 0s 1ms/step - loss: 950.5415 - mean_absolute_error: 950.5415 - RSquared: 0.8676 - val_loss: 1011.4442 - val_mean_absolute_error: 1011.4442 - val_RSquared: 0.8633\n",
      "Epoch 37/50\n",
      "220/220 [==============================] - 0s 2ms/step - loss: 946.7724 - mean_absolute_error: 946.7724 - RSquared: 0.8490 - val_loss: 1007.4498 - val_mean_absolute_error: 1007.4498 - val_RSquared: 0.8657\n",
      "Epoch 38/50\n",
      "220/220 [==============================] - 0s 1ms/step - loss: 936.9797 - mean_absolute_error: 936.9797 - RSquared: 0.8749 - val_loss: 1026.4635 - val_mean_absolute_error: 1026.4635 - val_RSquared: 0.8615\n"
     ]
    },
    {
     "name": "stdout",
     "output_type": "stream",
     "text": [
      "Epoch 39/50\n",
      "220/220 [==============================] - 0s 1ms/step - loss: 942.5203 - mean_absolute_error: 942.5203 - RSquared: 0.8857 - val_loss: 1004.2421 - val_mean_absolute_error: 1004.2421 - val_RSquared: 0.8720\n",
      "Epoch 40/50\n",
      "220/220 [==============================] - 0s 1ms/step - loss: 941.6032 - mean_absolute_error: 941.6032 - RSquared: 0.8742 - val_loss: 1010.1718 - val_mean_absolute_error: 1010.1718 - val_RSquared: 0.8650\n",
      "Epoch 41/50\n",
      "220/220 [==============================] - 0s 1ms/step - loss: 935.5968 - mean_absolute_error: 935.5968 - RSquared: 0.8583 - val_loss: 1002.7388 - val_mean_absolute_error: 1002.7388 - val_RSquared: 0.8636\n",
      "Epoch 42/50\n",
      "220/220 [==============================] - 0s 1ms/step - loss: 940.7305 - mean_absolute_error: 940.7305 - RSquared: 0.8802 - val_loss: 1021.5785 - val_mean_absolute_error: 1021.5785 - val_RSquared: 0.8692\n",
      "Epoch 43/50\n",
      "220/220 [==============================] - 0s 1ms/step - loss: 930.0521 - mean_absolute_error: 930.0521 - RSquared: 0.8693 - val_loss: 998.2584 - val_mean_absolute_error: 998.2584 - val_RSquared: 0.8724\n",
      "Epoch 44/50\n",
      "220/220 [==============================] - 0s 1ms/step - loss: 930.8604 - mean_absolute_error: 930.8604 - RSquared: 0.8811 - val_loss: 1030.1591 - val_mean_absolute_error: 1030.1591 - val_RSquared: 0.8680\n",
      "Epoch 45/50\n",
      "220/220 [==============================] - 0s 2ms/step - loss: 936.9101 - mean_absolute_error: 936.9101 - RSquared: 0.8755 - val_loss: 1040.4712 - val_mean_absolute_error: 1040.4712 - val_RSquared: 0.8580\n",
      "Epoch 46/50\n",
      "220/220 [==============================] - 0s 2ms/step - loss: 937.7139 - mean_absolute_error: 937.7139 - RSquared: 0.8507 - val_loss: 1011.9909 - val_mean_absolute_error: 1011.9909 - val_RSquared: 0.8648\n",
      "Epoch 47/50\n",
      "220/220 [==============================] - 0s 2ms/step - loss: 937.5842 - mean_absolute_error: 937.5842 - RSquared: 0.8686 - val_loss: 1030.4711 - val_mean_absolute_error: 1030.4711 - val_RSquared: 0.8605\n",
      "Epoch 48/50\n",
      "220/220 [==============================] - 0s 2ms/step - loss: 921.7460 - mean_absolute_error: 921.7460 - RSquared: 0.8705 - val_loss: 996.1822 - val_mean_absolute_error: 996.1822 - val_RSquared: 0.8639\n",
      "Epoch 49/50\n",
      "220/220 [==============================] - 0s 1ms/step - loss: 933.8039 - mean_absolute_error: 933.8039 - RSquared: 0.8593 - val_loss: 1006.4504 - val_mean_absolute_error: 1006.4504 - val_RSquared: 0.8690\n",
      "Epoch 50/50\n",
      "220/220 [==============================] - 0s 1ms/step - loss: 930.2944 - mean_absolute_error: 930.2944 - RSquared: 0.8900 - val_loss: 1018.7352 - val_mean_absolute_error: 1018.7352 - val_RSquared: 0.8660\n"
     ]
    }
   ],
   "source": [
    "from keras.callbacks import History \n",
    "history = History()\n",
    "History=NN_model.fit(a_train, y_train, epochs=50, batch_size=50, validation_split = 0.2, callbacks=[history])"
   ]
  },
  {
   "cell_type": "code",
   "execution_count": 13,
   "id": "38e319cb",
   "metadata": {},
   "outputs": [
    {
     "data": {
      "image/png": "[encoded data removed]",
      "text/plain": [
       "<Figure size 1080x360 with 3 Axes>"
      ]
     },
     "metadata": {
      "needs_background": "light"
     },
     "output_type": "display_data"
    }
   ],
   "source": [
    "mae_ann= History.history['mean_absolute_error']\n",
    "val_mae_ann= History.history['val_mean_absolute_error']\n",
    "loss_ann=History.history['loss']\n",
    "val_loss=History.history['val_loss']\n",
    "r2_ann= History.history['RSquared']\n",
    "val_r2_ann= History.history['val_RSquared']\n",
    "\n",
    "from matplotlib.pyplot import figure\n",
    "\n",
    "f = plt.figure()\n",
    "f.set_figwidth(15)\n",
    "f.set_figheight(5)  \n",
    "\n",
    "plt.subplot(1, 3, 1)\n",
    "plt.plot(History.history['mean_absolute_error'])\n",
    "plt.plot(History.history['val_mean_absolute_error'])\n",
    "#figure(figsize(8,8))\n",
    "plt.title('mean_absolute_error')\n",
    "plt.ylabel('mean_absolute_error')\n",
    "plt.xlabel('epoch')\n",
    "plt.legend(['train', 'test'], loc='upper left')\n",
    "\n",
    "plt.subplot(1, 3, 2)\n",
    "plt.plot(History.history['loss'])\n",
    "plt.plot(History.history['val_loss'])\n",
    "plt.title('model loss')\n",
    "plt.ylabel('loss')\n",
    "plt.xlabel('epoch')\n",
    "plt.legend(['train', 'test'], loc='upper left')\n",
    "  \n",
    "plt.subplot(1, 3, 3)\n",
    "plt.plot(History.history['RSquared'])\n",
    "plt.plot(History.history['val_RSquared'])\n",
    "plt.title('Accuracy')\n",
    "plt.ylabel('R2-Score')\n",
    "plt.xlabel('epoch')\n",
    "plt.legend(['train', 'test'], loc='upper left')\n",
    "\n",
    "\n",
    "plt.show()\n",
    "  "
   ]
  },
  {
   "cell_type": "code",
   "execution_count": 14,
   "id": "1543217a",
   "metadata": {},
   "outputs": [
    {
     "data": {
      "text/plain": [
       "<matplotlib.collections.PathCollection at 0x2a418bf7f70>"
      ]
     },
     "execution_count": 14,
     "metadata": {},
     "output_type": "execute_result"
    },
    {
     "data": {
      "image/png": "[encoded data removed]",
      "text/plain": [
       "<Figure size 432x288 with 1 Axes>"
      ]
     },
     "metadata": {
      "needs_background": "light"
     },
     "output_type": "display_data"
    }
   ],
   "source": [
    "predictions=NN_model.predict(a_test)\n",
    "plt.scatter(y_test,predictions)"
   ]
  },
  {
   "cell_type": "code",
   "execution_count": 15,
   "id": "89305794",
   "metadata": {},
   "outputs": [
    {
     "data": {
      "text/plain": [
       "<AxesSubplot:ylabel='Density'>"
      ]
     },
     "execution_count": 15,
     "metadata": {},
     "output_type": "execute_result"
    },
    {
     "data": {
      "image/png": "[encoded data removed]",
      "text/plain": [
       "<Figure size 432x288 with 1 Axes>"
      ]
     },
     "metadata": {
      "needs_background": "light"
     },
     "output_type": "display_data"
    }
   ],
   "source": [
    "sb.distplot(predictions)"
   ]
  },
  {
   "cell_type": "markdown",
   "id": "36d931f3",
   "metadata": {},
   "source": [
    "# MODEL COMPARISON"
   ]
  },
  {
   "cell_type": "code",
   "execution_count": 16,
   "id": "5428635b",
   "metadata": {},
   "outputs": [],
   "source": [
    "mean_list= [ mae_rfr, mae_ann[-1], mae_svm, mae_linear]\n",
    "accuracy_list= [r2_rfr, val_r2_ann[-1], r2_svm, r2_linear]\n",
    "name = ['Random Forest', 'ANN','SVM', 'Linear Regression']"
   ]
  },
  {
   "cell_type": "code",
   "execution_count": 17,
   "id": "d4f3f482",
   "metadata": {},
   "outputs": [
    {
     "data": {
      "text/plain": [
       "Text(0.5, 1.0, 'Accuracy Comparison')"
      ]
     },
     "execution_count": 17,
     "metadata": {},
     "output_type": "execute_result"
    },
    {
     "data": {
      "image/png": "[encoded data removed]",
      "text/plain": [
       "<Figure size 1080x360 with 2 Axes>"
      ]
     },
     "metadata": {
      "needs_background": "light"
     },
     "output_type": "display_data"
    }
   ],
   "source": [
    "f1 = plt.figure()\n",
    "f1.set_figwidth(15)\n",
    "f1.set_figheight(5) \n",
    "\n",
    "plt.subplot(1, 2, 1)\n",
    "plt.bar(name,mean_list)\n",
    "plt.xlabel(\"Data\")\n",
    "plt.ylabel(\"Mean Absolute Error\")\n",
    "plt.title('Mean Absolute Error Comparison')\n",
    "\n",
    "plt.subplot(1, 2, 2)\n",
    "plt.bar(name,accuracy_list)\n",
    "plt.xlabel(\"Data\")\n",
    "plt.ylabel(\"Accuracy\")\n",
    "plt.title('Accuracy Comparison')"
   ]
  },
  {
   "cell_type": "code",
   "execution_count": null,
   "id": "6cb13001",
   "metadata": {},
   "outputs": [],
   "source": []
  }
 ],
 "metadata": {
  "kernelspec": {
   "display_name": "Python 3 (ipykernel)",
   "language": "python",
   "name": "python3"
  },
  "language_info": {
   "codemirror_mode": {
    "name": "ipython",
    "version": 3
   },
   "file_extension": ".py",
   "mimetype": "text/x-python",
   "name": "python",
   "nbconvert_exporter": "python",
   "pygments_lexer": "ipython3",
   "version": "3.9.7"
  }
 },
 "nbformat": 4,
 "nbformat_minor": 5
}
